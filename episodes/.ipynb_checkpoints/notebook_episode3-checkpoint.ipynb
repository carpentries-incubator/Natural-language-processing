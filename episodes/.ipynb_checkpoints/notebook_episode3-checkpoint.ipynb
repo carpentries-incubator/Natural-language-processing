{
 "cells": [
  {
   "cell_type": "code",
   "execution_count": 3,
   "id": "cb3d2177-b92e-46dd-88bb-b40d7d87ee17",
   "metadata": {},
   "outputs": [],
   "source": [
    "# imports needed and set up logging\n",
    "import gzip\n",
    "import gensim \n",
    "import spacy\n",
    "import logging\n",
    "import gzip\n",
    "import numpy as np\n",
    "import umap.umap_ as umap\n",
    "import matplotlib.pyplot as plt\n",
    "import nltk\n",
    "from nltk.corpus import gutenberg\n",
    "from gensim.models import Word2Vec"
   ]
  },
  {
   "cell_type": "markdown",
   "id": "da50ae37-0935-498a-8988-b247b6d1f076",
   "metadata": {},
   "source": [
    "To efficiently create word embeddings, we're going to use Word2vec. This algorithm has been around since 2013, and it is explained in this paper: https://arxiv.org/abs/1301.3781"
   ]
  },
  {
   "cell_type": "code",
   "execution_count": 189,
   "id": "3632c61c-b880-4ad7-8504-1fa43d9b100e",
   "metadata": {},
   "outputs": [],
   "source": [
    "from sklearn.preprocessing import OneHotEncoder\n"
   ]
  },
  {
   "cell_type": "code",
   "execution_count": 201,
   "id": "ca086882-f0c7-48d3-845b-a0bbfa8eaa92",
   "metadata": {},
   "outputs": [
    {
     "name": "stdout",
     "output_type": "stream",
     "text": [
      "[[0. 0. 0. 0. 1.]\n",
      " [1. 0. 0. 0. 0.]\n",
      " [0. 0. 0. 1. 0.]\n",
      " [0. 0. 1. 0. 0.]\n",
      " [0. 0. 0. 0. 1.]\n",
      " [0. 1. 0. 0. 0.]]\n"
     ]
    }
   ],
   "source": [
    "words = [\"the\", \"cat\", \"sat\", \"on\", \"the\", \"mat\"]\n",
    "sentence = [\"cat\", \"mat\", \"on\", \"sat\", \"the\"]\n",
    "\n",
    "# Reshape the data\n",
    "words_reshaped = np.array(words).reshape(-1, 1)\n",
    "\n",
    "# One-hot encode the words\n",
    "encoder = OneHotEncoder(sparse_output=False)\n",
    "one_hot_encoded = encoder.fit_transform(words_reshaped)\n",
    "print(one_hot_encoded)"
   ]
  },
  {
   "cell_type": "code",
   "execution_count": 206,
   "id": "79d191b0-d96e-4812-9380-4eb9f25d13cf",
   "metadata": {},
   "outputs": [
    {
     "data": {
      "text/html": [
       "<div>\n",
       "<style scoped>\n",
       "    .dataframe tbody tr th:only-of-type {\n",
       "        vertical-align: middle;\n",
       "    }\n",
       "\n",
       "    .dataframe tbody tr th {\n",
       "        vertical-align: top;\n",
       "    }\n",
       "\n",
       "    .dataframe thead th {\n",
       "        text-align: right;\n",
       "    }\n",
       "</style>\n",
       "<table border=\"1\" class=\"dataframe\">\n",
       "  <thead>\n",
       "    <tr style=\"text-align: right;\">\n",
       "      <th></th>\n",
       "      <th>cat</th>\n",
       "      <th>mat</th>\n",
       "      <th>on</th>\n",
       "      <th>sat</th>\n",
       "      <th>the</th>\n",
       "    </tr>\n",
       "  </thead>\n",
       "  <tbody>\n",
       "    <tr>\n",
       "      <th>the</th>\n",
       "      <td>0.0</td>\n",
       "      <td>0.0</td>\n",
       "      <td>0.0</td>\n",
       "      <td>0.0</td>\n",
       "      <td>1.0</td>\n",
       "    </tr>\n",
       "    <tr>\n",
       "      <th>cat</th>\n",
       "      <td>1.0</td>\n",
       "      <td>0.0</td>\n",
       "      <td>0.0</td>\n",
       "      <td>0.0</td>\n",
       "      <td>0.0</td>\n",
       "    </tr>\n",
       "    <tr>\n",
       "      <th>sat</th>\n",
       "      <td>0.0</td>\n",
       "      <td>0.0</td>\n",
       "      <td>0.0</td>\n",
       "      <td>1.0</td>\n",
       "      <td>0.0</td>\n",
       "    </tr>\n",
       "    <tr>\n",
       "      <th>on</th>\n",
       "      <td>0.0</td>\n",
       "      <td>0.0</td>\n",
       "      <td>1.0</td>\n",
       "      <td>0.0</td>\n",
       "      <td>0.0</td>\n",
       "    </tr>\n",
       "    <tr>\n",
       "      <th>the</th>\n",
       "      <td>0.0</td>\n",
       "      <td>0.0</td>\n",
       "      <td>0.0</td>\n",
       "      <td>0.0</td>\n",
       "      <td>1.0</td>\n",
       "    </tr>\n",
       "    <tr>\n",
       "      <th>mat</th>\n",
       "      <td>0.0</td>\n",
       "      <td>1.0</td>\n",
       "      <td>0.0</td>\n",
       "      <td>0.0</td>\n",
       "      <td>0.0</td>\n",
       "    </tr>\n",
       "  </tbody>\n",
       "</table>\n",
       "</div>"
      ],
      "text/plain": [
       "     cat  mat   on  sat  the\n",
       "the  0.0  0.0  0.0  0.0  1.0\n",
       "cat  1.0  0.0  0.0  0.0  0.0\n",
       "sat  0.0  0.0  0.0  1.0  0.0\n",
       "on   0.0  0.0  1.0  0.0  0.0\n",
       "the  0.0  0.0  0.0  0.0  1.0\n",
       "mat  0.0  1.0  0.0  0.0  0.0"
      ]
     },
     "execution_count": 206,
     "metadata": {},
     "output_type": "execute_result"
    }
   ],
   "source": [
    "import pandas as pd\n",
    "df = pd.DataFrame(one_hot_encoded, columns=sentence, index=words)\n",
    "df"
   ]
  },
  {
   "cell_type": "code",
   "execution_count": 188,
   "id": "1b9d6d6f-6709-463e-b1f1-caf88da2adbf",
   "metadata": {},
   "outputs": [
    {
     "ename": "SyntaxError",
     "evalue": "invalid syntax. Perhaps you forgot a comma? (2704028071.py, line 6)",
     "output_type": "error",
     "traceback": [
      "\u001b[0;36m  Cell \u001b[0;32mIn[203], line 6\u001b[0;36m\u001b[0m\n\u001b[0;31m    [0. 0. 0. 0. 1.],\u001b[0m\n\u001b[0m     ^\u001b[0m\n\u001b[0;31mSyntaxError\u001b[0m\u001b[0;31m:\u001b[0m invalid syntax. Perhaps you forgot a comma?\n"
     ]
    }
   ],
   "source": [
    "words = [\"the\", \"cat\", \"sat\", \"on\", \"the\", \"mat\"]\n",
    "\n",
    "sentence = [\"cat\", \"mat\", \"on\", \"sat\", \"the\"]\n",
    "\n",
    "data = np.array([\n",
    "    [0, 0, 0, 0, 1],\n",
    "    [1, 0, 0, 0, 0],\n",
    "    [0, 0, 0, 1, 0],\n",
    "    [0, 0, 1, 0, 0],\n",
    "    [0, 0, 0, 0, 1],\n",
    "    [0, 1, 0, 0, 0],\n",
    "])\n",
    "\n",
    "fig, ax = plt.subplots()\n",
    "\n",
    "table = ax.table(cellText=data, rowLabels=words, colLabels=sentence, cellLoc='center', loc='center')\n",
    "ax.axis('off')\n",
    "plt.title('the cat sat on the mat')\n",
    "plt.show()"
   ]
  },
  {
   "cell_type": "code",
   "execution_count": 172,
   "id": "fa7ed3cd-04c8-4f49-b2f6-76b35754e9d0",
   "metadata": {},
   "outputs": [],
   "source": [
    "from sklearn.metrics.pairwise import cosine_similarity\n",
    "import numpy as np"
   ]
  },
  {
   "cell_type": "code",
   "execution_count": 212,
   "id": "aff27747-9693-4e8f-b5e5-ee200ec88af2",
   "metadata": {},
   "outputs": [],
   "source": [
    "cat = np.asarray([[70, 4, 1.5, 4]])\n",
    "dog = np.asarray([[56, 4, 2.5, 15]])\n",
    "caterpillar = np.asarray([[70, 100, .001, .05]])\n",
    "tarantula = np.asarray([[80, 6, .1, .3]])\n"
   ]
  },
  {
   "cell_type": "code",
   "execution_count": 213,
   "id": "94c85213-e735-40d4-a216-95c6e2bfa7a7",
   "metadata": {},
   "outputs": [
    {
     "data": {
      "text/plain": [
       "array([[70. ,  4. ,  1.5,  4. ]])"
      ]
     },
     "execution_count": 213,
     "metadata": {},
     "output_type": "execute_result"
    }
   ],
   "source": [
    "cat"
   ]
  },
  {
   "cell_type": "code",
   "execution_count": 214,
   "id": "4732cc6b-8881-4c68-a024-ae8e1f4f5572",
   "metadata": {},
   "outputs": [
    {
     "data": {
      "text/plain": [
       "array([[0.61814254]])"
      ]
     },
     "execution_count": 214,
     "metadata": {},
     "output_type": "execute_result"
    }
   ],
   "source": [
    "cosine_similarity(cat, caterpillar)"
   ]
  },
  {
   "cell_type": "code",
   "execution_count": 215,
   "id": "5367b3fb-29a3-4893-b9d5-48530502649a",
   "metadata": {},
   "outputs": [
    {
     "data": {
      "text/plain": [
       "array([[0.97893809]])"
      ]
     },
     "execution_count": 215,
     "metadata": {},
     "output_type": "execute_result"
    }
   ],
   "source": [
    "cosine_similarity(cat, dog)"
   ]
  },
  {
   "cell_type": "code",
   "execution_count": 216,
   "id": "01d52a8e-aca2-4a89-969e-696a59347f86",
   "metadata": {},
   "outputs": [
    {
     "data": {
      "text/plain": [
       "array([[0.99822302]])"
      ]
     },
     "execution_count": 216,
     "metadata": {},
     "output_type": "execute_result"
    }
   ],
   "source": [
    "cosine_similarity(cat, tarantula)"
   ]
  },
  {
   "cell_type": "code",
   "execution_count": 217,
   "id": "79bdf717-8fd4-48c4-bd1f-23c94309e255",
   "metadata": {},
   "outputs": [
    {
     "data": {
      "text/plain": [
       "array([[0.63312314]])"
      ]
     },
     "execution_count": 217,
     "metadata": {},
     "output_type": "execute_result"
    }
   ],
   "source": [
    "cosine_similarity(caterpillar, tarantula)"
   ]
  },
  {
   "cell_type": "code",
   "execution_count": 218,
   "id": "c6c3df58-71d2-442f-9db3-91184eb25f9a",
   "metadata": {},
   "outputs": [
    {
     "data": {
      "text/plain": [
       "array([[0.96622377]])"
      ]
     },
     "execution_count": 218,
     "metadata": {},
     "output_type": "execute_result"
    }
   ],
   "source": [
    "cosine_similarity(dog, tarantula)"
   ]
  },
  {
   "cell_type": "code",
   "execution_count": 219,
   "id": "4ba69e02-d936-4453-98e0-0e0bd6101705",
   "metadata": {},
   "outputs": [
    {
     "data": {
      "text/plain": [
       "array([[0.60855407]])"
      ]
     },
     "execution_count": 219,
     "metadata": {},
     "output_type": "execute_result"
    }
   ],
   "source": [
    "cosine_similarity(caterpillar, dog)"
   ]
  },
  {
   "cell_type": "markdown",
   "id": "55a4a2ef-0220-412e-a300-b50fc3563e5b",
   "metadata": {},
   "source": [
    "## polished notebook for lesson 3"
   ]
  },
  {
   "cell_type": "code",
   "execution_count": 2,
   "id": "9d1cfa87-ce1a-4c58-b23c-0f85faefe507",
   "metadata": {},
   "outputs": [],
   "source": [
    "logging.basicConfig(format='%(asctime)s : %(levelname)s : %(message)s', level=logging.INFO)"
   ]
  },
  {
   "cell_type": "code",
   "execution_count": 4,
   "id": "e1d250ff-1863-40eb-ac45-a9d75d825e8f",
   "metadata": {},
   "outputs": [],
   "source": [
    "nlp = spacy.load(\"en_core_web_sm\")\n",
    "nlp.max_length = 2000000  # Increase the max length limit if necessary"
   ]
  },
  {
   "cell_type": "code",
   "execution_count": 5,
   "id": "54b3b85f-53d1-43fb-b8a3-d7b68ccca501",
   "metadata": {},
   "outputs": [
    {
     "name": "stderr",
     "output_type": "stream",
     "text": [
      "[nltk_data] Downloading package gutenberg to\n",
      "[nltk_data]     /Users/evaviviani/nltk_data...\n",
      "[nltk_data]   Package gutenberg is already up-to-date!\n"
     ]
    },
    {
     "data": {
      "text/plain": [
       "True"
      ]
     },
     "execution_count": 5,
     "metadata": {},
     "output_type": "execute_result"
    }
   ],
   "source": [
    "nltk.download('gutenberg')"
   ]
  },
  {
   "cell_type": "code",
   "execution_count": 6,
   "id": "8310d8f4-b5e1-450c-8b01-6fb9c84919e4",
   "metadata": {},
   "outputs": [],
   "source": [
    "available_books = gutenberg.fileids()"
   ]
  },
  {
   "cell_type": "code",
   "execution_count": 7,
   "id": "dccbe888-cc50-4b46-bbed-86eba19a73a8",
   "metadata": {},
   "outputs": [
    {
     "data": {
      "text/plain": [
       "['austen-emma.txt',\n",
       " 'austen-persuasion.txt',\n",
       " 'austen-sense.txt',\n",
       " 'bible-kjv.txt',\n",
       " 'blake-poems.txt',\n",
       " 'bryant-stories.txt',\n",
       " 'burgess-busterbrown.txt',\n",
       " 'carroll-alice.txt',\n",
       " 'chesterton-ball.txt',\n",
       " 'chesterton-brown.txt',\n",
       " 'chesterton-thursday.txt',\n",
       " 'edgeworth-parents.txt',\n",
       " 'melville-moby_dick.txt',\n",
       " 'milton-paradise.txt',\n",
       " 'shakespeare-caesar.txt',\n",
       " 'shakespeare-hamlet.txt',\n",
       " 'shakespeare-macbeth.txt',\n",
       " 'whitman-leaves.txt']"
      ]
     },
     "execution_count": 7,
     "metadata": {},
     "output_type": "execute_result"
    }
   ],
   "source": [
    "available_books"
   ]
  },
  {
   "cell_type": "code",
   "execution_count": 8,
   "id": "b3b8e5be-2135-4a5f-8829-b0f500d4d56d",
   "metadata": {},
   "outputs": [
    {
     "name": "stdout",
     "output_type": "stream",
     "text": [
      "austen-emma.txt: 887071 characters\n",
      "austen-persuasion.txt: 466292 characters\n",
      "austen-sense.txt: 673022 characters\n",
      "bible-kjv.txt: 4332554 characters\n",
      "blake-poems.txt: 38153 characters\n",
      "bryant-stories.txt: 249439 characters\n",
      "burgess-busterbrown.txt: 84663 characters\n",
      "carroll-alice.txt: 144395 characters\n",
      "chesterton-ball.txt: 457450 characters\n",
      "chesterton-brown.txt: 406629 characters\n",
      "chesterton-thursday.txt: 320525 characters\n",
      "edgeworth-parents.txt: 935158 characters\n",
      "melville-moby_dick.txt: 1242990 characters\n",
      "milton-paradise.txt: 468220 characters\n",
      "shakespeare-caesar.txt: 112310 characters\n",
      "shakespeare-hamlet.txt: 162881 characters\n",
      "shakespeare-macbeth.txt: 100351 characters\n",
      "whitman-leaves.txt: 711215 characters\n"
     ]
    }
   ],
   "source": [
    "# Calculate the length of each book\n",
    "book_lengths = {book: len(nltk.corpus.gutenberg.raw(book)) for book in available_books}\n",
    "\n",
    "# Print the size of each book\n",
    "for book, length in book_lengths.items():\n",
    "    print(f\"{book}: {length} characters\")"
   ]
  },
  {
   "cell_type": "code",
   "execution_count": 9,
   "id": "4d5f8779-fd7e-48f5-a52a-5e08c57f2929",
   "metadata": {},
   "outputs": [
    {
     "data": {
      "text/plain": [
       "['austen-emma.txt',\n",
       " 'austen-persuasion.txt',\n",
       " 'austen-sense.txt',\n",
       " 'blake-poems.txt',\n",
       " 'bryant-stories.txt',\n",
       " 'burgess-busterbrown.txt',\n",
       " 'carroll-alice.txt',\n",
       " 'chesterton-ball.txt',\n",
       " 'chesterton-brown.txt',\n",
       " 'chesterton-thursday.txt',\n",
       " 'edgeworth-parents.txt',\n",
       " 'melville-moby_dick.txt',\n",
       " 'milton-paradise.txt',\n",
       " 'shakespeare-caesar.txt',\n",
       " 'shakespeare-hamlet.txt',\n",
       " 'shakespeare-macbeth.txt',\n",
       " 'whitman-leaves.txt']"
      ]
     },
     "execution_count": 9,
     "metadata": {},
     "output_type": "execute_result"
    }
   ],
   "source": [
    "# filter books that are less than our max_length\n",
    "filtered_books = [book for book, length in book_lengths.items() if length <= nlp.max_length]\n",
    "filtered_books"
   ]
  },
  {
   "cell_type": "code",
   "execution_count": 10,
   "id": "c90984a7-af1b-4aad-81eb-daee23fb88da",
   "metadata": {},
   "outputs": [
    {
     "name": "stderr",
     "output_type": "stream",
     "text": [
      "2024-07-11 10:01:11,293 : INFO : Reading and preprocessing books...this may take a while\n",
      "2024-07-11 10:01:11,296 : INFO : Reading book austen-emma.txt\n",
      "2024-07-11 10:01:18,611 : INFO : Reading book austen-persuasion.txt\n",
      "2024-07-11 10:01:22,167 : INFO : Reading book austen-sense.txt\n",
      "2024-07-11 10:01:27,197 : INFO : Reading book blake-poems.txt\n",
      "2024-07-11 10:01:27,534 : INFO : Reading book bryant-stories.txt\n",
      "2024-07-11 10:01:29,545 : INFO : Reading book burgess-busterbrown.txt\n",
      "2024-07-11 10:01:30,183 : INFO : Reading book carroll-alice.txt\n",
      "2024-07-11 10:01:31,377 : INFO : Reading book chesterton-ball.txt\n",
      "2024-07-11 10:01:34,988 : INFO : Reading book chesterton-brown.txt\n",
      "2024-07-11 10:01:38,244 : INFO : Reading book chesterton-thursday.txt\n",
      "2024-07-11 10:01:40,649 : INFO : Reading book edgeworth-parents.txt\n",
      "2024-07-11 10:01:48,127 : INFO : Reading book melville-moby_dick.txt\n",
      "2024-07-11 10:01:57,727 : INFO : Reading book milton-paradise.txt\n",
      "2024-07-11 10:02:01,409 : INFO : Reading book shakespeare-caesar.txt\n",
      "2024-07-11 10:02:02,407 : INFO : Reading book shakespeare-hamlet.txt\n",
      "2024-07-11 10:02:03,806 : INFO : Reading book shakespeare-macbeth.txt\n",
      "2024-07-11 10:02:04,645 : INFO : Reading book whitman-leaves.txt\n",
      "2024-07-11 10:02:10,259 : INFO : Done reading and preprocessing data\n"
     ]
    }
   ],
   "source": [
    "# Function to read and preprocess texts using spaCy\n",
    "def read_input(book_ids):\n",
    "    \"\"\"This method reads the input book IDs and preprocesses the text\"\"\"\n",
    "    \n",
    "    logging.info(\"Reading and preprocessing books...this may take a while\")\n",
    "    \n",
    "    for book_id in book_ids:\n",
    "        logging.info(f\"Reading book {book_id}\")\n",
    "        raw_text = nltk.corpus.gutenberg.raw(book_id)\n",
    "        doc = nlp(raw_text)\n",
    "        \n",
    "        for sentence in doc.sents:\n",
    "            # Tokenize, lowercase, remove stop words and punctuation\n",
    "            tokens = [token.text.lower() for token in sentence if not token.is_stop and not token.is_punct]\n",
    "            if tokens:\n",
    "                yield tokens\n",
    "                \n",
    "\n",
    "# Read and preprocess the texts from the selected books\n",
    "documents = list(read_input(filtered_books))\n",
    "logging.info(\"Done reading and preprocessing data\")"
   ]
  },
  {
   "cell_type": "code",
   "execution_count": null,
   "id": "31a6836b-0fd0-4214-b332-e472854139a5",
   "metadata": {},
   "outputs": [],
   "source": []
  },
  {
   "cell_type": "code",
   "execution_count": 11,
   "id": "e8e190e2-f2f9-4da0-83ad-63fe466479e2",
   "metadata": {},
   "outputs": [
    {
     "name": "stderr",
     "output_type": "stream",
     "text": [
      "2024-07-11 10:02:24,216 : INFO : collecting all words and their counts\n",
      "2024-07-11 10:02:24,220 : INFO : PROGRESS: at sentence #0, processed 0 words, keeping 0 word types\n",
      "2024-07-11 10:02:24,244 : INFO : PROGRESS: at sentence #10000, processed 112973 words, keeping 10262 word types\n",
      "2024-07-11 10:02:24,259 : INFO : PROGRESS: at sentence #20000, processed 222855 words, keeping 15153 word types\n",
      "2024-07-11 10:02:24,273 : INFO : PROGRESS: at sentence #30000, processed 325868 words, keeping 21381 word types\n",
      "2024-07-11 10:02:24,283 : INFO : PROGRESS: at sentence #40000, processed 420669 words, keeping 23935 word types\n",
      "2024-07-11 10:02:24,300 : INFO : PROGRESS: at sentence #50000, processed 553409 words, keeping 31749 word types\n",
      "2024-07-11 10:02:24,319 : INFO : PROGRESS: at sentence #60000, processed 696113 words, keeping 40477 word types\n",
      "2024-07-11 10:02:24,322 : INFO : collected 41372 word types from a corpus of 719234 raw words and 61139 sentences\n",
      "2024-07-11 10:02:24,323 : INFO : Creating a fresh vocabulary\n",
      "2024-07-11 10:02:24,358 : INFO : Word2Vec lifecycle event {'msg': 'effective_min_count=2 retains 23395 unique words (56.55% of original 41372, drops 17977)', 'datetime': '2024-07-11T10:02:24.358601', 'gensim': '4.3.2', 'python': '3.11.0 | packaged by conda-forge | (main, Jan 14 2023, 12:26:40) [Clang 14.0.6 ]', 'platform': 'macOS-14.5-arm64-arm-64bit', 'event': 'prepare_vocab'}\n",
      "2024-07-11 10:02:24,359 : INFO : Word2Vec lifecycle event {'msg': 'effective_min_count=2 leaves 701257 word corpus (97.50% of original 719234, drops 17977)', 'datetime': '2024-07-11T10:02:24.359100', 'gensim': '4.3.2', 'python': '3.11.0 | packaged by conda-forge | (main, Jan 14 2023, 12:26:40) [Clang 14.0.6 ]', 'platform': 'macOS-14.5-arm64-arm-64bit', 'event': 'prepare_vocab'}\n",
      "2024-07-11 10:02:24,402 : INFO : deleting the raw counts dictionary of 41372 items\n",
      "2024-07-11 10:02:24,403 : INFO : sample=0.001 downsamples 16 most-common words\n",
      "2024-07-11 10:02:24,403 : INFO : Word2Vec lifecycle event {'msg': 'downsampling leaves estimated 575126.6373270428 word corpus (82.0%% of prior 701257)', 'datetime': '2024-07-11T10:02:24.403586', 'gensim': '4.3.2', 'python': '3.11.0 | packaged by conda-forge | (main, Jan 14 2023, 12:26:40) [Clang 14.0.6 ]', 'platform': 'macOS-14.5-arm64-arm-64bit', 'event': 'prepare_vocab'}\n",
      "2024-07-11 10:02:24,479 : INFO : estimated required memory for 23395 words and 150 dimensions: 39771500 bytes\n",
      "2024-07-11 10:02:24,479 : INFO : resetting layer weights\n",
      "2024-07-11 10:02:24,491 : INFO : Word2Vec lifecycle event {'update': False, 'trim_rule': 'None', 'datetime': '2024-07-11T10:02:24.491022', 'gensim': '4.3.2', 'python': '3.11.0 | packaged by conda-forge | (main, Jan 14 2023, 12:26:40) [Clang 14.0.6 ]', 'platform': 'macOS-14.5-arm64-arm-64bit', 'event': 'build_vocab'}\n",
      "2024-07-11 10:02:24,491 : INFO : Word2Vec lifecycle event {'msg': 'training model with 10 workers on 23395 vocabulary and 150 features, using sg=0 hs=0 sample=0.001 negative=5 window=10 shrink_windows=True', 'datetime': '2024-07-11T10:02:24.491478', 'gensim': '4.3.2', 'python': '3.11.0 | packaged by conda-forge | (main, Jan 14 2023, 12:26:40) [Clang 14.0.6 ]', 'platform': 'macOS-14.5-arm64-arm-64bit', 'event': 'train'}\n",
      "2024-07-11 10:02:24,693 : INFO : EPOCH 0: training on 719234 raw words (574830 effective words) took 0.2s, 2990199 effective words/s\n",
      "2024-07-11 10:02:24,880 : INFO : EPOCH 1: training on 719234 raw words (575128 effective words) took 0.2s, 3188816 effective words/s\n",
      "2024-07-11 10:02:25,079 : INFO : EPOCH 2: training on 719234 raw words (574847 effective words) took 0.2s, 3007858 effective words/s\n",
      "2024-07-11 10:02:25,281 : INFO : EPOCH 3: training on 719234 raw words (575226 effective words) took 0.2s, 2950645 effective words/s\n",
      "2024-07-11 10:02:25,466 : INFO : EPOCH 4: training on 719234 raw words (575348 effective words) took 0.2s, 3261867 effective words/s\n",
      "2024-07-11 10:02:25,466 : INFO : Word2Vec lifecycle event {'msg': 'training on 3596170 raw words (2875379 effective words) took 1.0s, 2949050 effective words/s', 'datetime': '2024-07-11T10:02:25.466710', 'gensim': '4.3.2', 'python': '3.11.0 | packaged by conda-forge | (main, Jan 14 2023, 12:26:40) [Clang 14.0.6 ]', 'platform': 'macOS-14.5-arm64-arm-64bit', 'event': 'train'}\n",
      "2024-07-11 10:02:25,466 : INFO : Word2Vec lifecycle event {'params': 'Word2Vec<vocab=23395, vector_size=150, alpha=0.025>', 'datetime': '2024-07-11T10:02:25.466922', 'gensim': '4.3.2', 'python': '3.11.0 | packaged by conda-forge | (main, Jan 14 2023, 12:26:40) [Clang 14.0.6 ]', 'platform': 'macOS-14.5-arm64-arm-64bit', 'event': 'created'}\n",
      "2024-07-11 10:02:25,467 : WARNING : Effective 'alpha' higher than previous training cycles\n",
      "2024-07-11 10:02:25,467 : INFO : Word2Vec lifecycle event {'msg': 'training model with 10 workers on 23395 vocabulary and 150 features, using sg=0 hs=0 sample=0.001 negative=5 window=10 shrink_windows=True', 'datetime': '2024-07-11T10:02:25.467479', 'gensim': '4.3.2', 'python': '3.11.0 | packaged by conda-forge | (main, Jan 14 2023, 12:26:40) [Clang 14.0.6 ]', 'platform': 'macOS-14.5-arm64-arm-64bit', 'event': 'train'}\n",
      "2024-07-11 10:02:25,649 : INFO : EPOCH 0: training on 719234 raw words (575251 effective words) took 0.2s, 3322975 effective words/s\n",
      "2024-07-11 10:02:25,827 : INFO : EPOCH 1: training on 719234 raw words (575235 effective words) took 0.2s, 3358379 effective words/s\n",
      "2024-07-11 10:02:26,007 : INFO : EPOCH 2: training on 719234 raw words (575147 effective words) took 0.2s, 3325308 effective words/s\n",
      "2024-07-11 10:02:26,186 : INFO : EPOCH 3: training on 719234 raw words (574971 effective words) took 0.2s, 3347951 effective words/s\n",
      "2024-07-11 10:02:26,363 : INFO : EPOCH 4: training on 719234 raw words (575081 effective words) took 0.2s, 3372763 effective words/s\n",
      "2024-07-11 10:02:26,543 : INFO : EPOCH 5: training on 719234 raw words (575140 effective words) took 0.2s, 3323457 effective words/s\n",
      "2024-07-11 10:02:26,725 : INFO : EPOCH 6: training on 719234 raw words (575333 effective words) took 0.2s, 3291276 effective words/s\n",
      "2024-07-11 10:02:26,904 : INFO : EPOCH 7: training on 719234 raw words (575157 effective words) took 0.2s, 3426718 effective words/s\n",
      "2024-07-11 10:02:27,085 : INFO : EPOCH 8: training on 719234 raw words (575555 effective words) took 0.2s, 3306885 effective words/s\n",
      "2024-07-11 10:02:27,275 : INFO : EPOCH 9: training on 719234 raw words (575281 effective words) took 0.2s, 3177547 effective words/s\n",
      "2024-07-11 10:02:27,275 : INFO : Word2Vec lifecycle event {'msg': 'training on 7192340 raw words (5752151 effective words) took 1.8s, 3181854 effective words/s', 'datetime': '2024-07-11T10:02:27.275438', 'gensim': '4.3.2', 'python': '3.11.0 | packaged by conda-forge | (main, Jan 14 2023, 12:26:40) [Clang 14.0.6 ]', 'platform': 'macOS-14.5-arm64-arm-64bit', 'event': 'train'}\n"
     ]
    },
    {
     "data": {
      "text/plain": [
       "(5752151, 7192340)"
      ]
     },
     "execution_count": 11,
     "metadata": {},
     "output_type": "execute_result"
    }
   ],
   "source": [
    "# set up model\n",
    "model = gensim.models.Word2Vec(documents, vector_size=150, window=10, min_count=2, workers=10)\n",
    "# train\n",
    "model.train(documents,total_examples=len(documents),epochs=10)"
   ]
  },
  {
   "cell_type": "markdown",
   "id": "5750fdfe-1d8b-4064-bf9d-665ac8689bf4",
   "metadata": {},
   "source": [
    "We can then explore the embedding space by seeing the nearest neighbors of a specific word, ‘king’ for example:"
   ]
  },
  {
   "cell_type": "code",
   "execution_count": 158,
   "id": "08cd6dfa-636a-4595-aaf2-82b51f9d2037",
   "metadata": {},
   "outputs": [
    {
     "data": {
      "text/plain": [
       "[('frode', 0.6637631058692932),\n",
       " ('saul', 0.6475756168365479),\n",
       " ('david', 0.645652174949646),\n",
       " ('israelites', 0.6294880509376526),\n",
       " ('anointed', 0.6224242448806763),\n",
       " ('queen', 0.614713728427887),\n",
       " ('denies', 0.6090483069419861),\n",
       " ('alfred', 0.6029406189918518),\n",
       " ('royall', 0.6021169424057007),\n",
       " ('allemaine', 0.601260244846344),\n",
       " ('prince', 0.6012176275253296)]"
      ]
     },
     "execution_count": 158,
     "metadata": {},
     "output_type": "execute_result"
    }
   ],
   "source": [
    "# the word most similar to king?\n",
    "w1 = \"king\"\n",
    "model.wv.most_similar(w1, topn=11)"
   ]
  },
  {
   "cell_type": "code",
   "execution_count": 157,
   "id": "0182c83e-b459-4bfa-8d90-01198e5ed715",
   "metadata": {},
   "outputs": [
    {
     "data": {
      "text/plain": [
       "[('duchess', 0.8634382486343384),\n",
       " ('rubbing', 0.8200782537460327),\n",
       " ('elsa', 0.8154689073562622),\n",
       " ('dog', 0.800157368183136),\n",
       " ('puppy', 0.7991596460342407),\n",
       " ('porthole', 0.7991588115692139),\n",
       " ('brahmin', 0.7971488237380981),\n",
       " ('hatter', 0.7950890064239502),\n",
       " ('catch', 0.7866884469985962),\n",
       " ('here--', 0.7830371260643005)]"
      ]
     },
     "execution_count": 157,
     "metadata": {},
     "output_type": "execute_result"
    }
   ],
   "source": [
    "model.wv.most_similar('cat')"
   ]
  },
  {
   "cell_type": "code",
   "execution_count": 150,
   "id": "f28e9e19-36d5-4de7-baee-356eb90a7438",
   "metadata": {},
   "outputs": [],
   "source": [
    "p0 = model.wv.most_similar('cat')[0]"
   ]
  },
  {
   "cell_type": "code",
   "execution_count": null,
   "id": "d65a2a95-8585-45bb-a39a-7571ed9008b7",
   "metadata": {},
   "outputs": [],
   "source": []
  },
  {
   "cell_type": "code",
   "execution_count": 151,
   "id": "e0685a6e-0ee1-482f-aaaa-508663b50dc8",
   "metadata": {},
   "outputs": [
    {
     "data": {
      "text/plain": [
       "('duchess', 0.8634382486343384)"
      ]
     },
     "execution_count": 151,
     "metadata": {},
     "output_type": "execute_result"
    }
   ],
   "source": [
    "p0"
   ]
  },
  {
   "cell_type": "code",
   "execution_count": 73,
   "id": "255ed289-1e69-4095-b68e-acd160127d01",
   "metadata": {},
   "outputs": [],
   "source": [
    "# how similar are cat and dog?\n",
    "p1 = model.wv.similarity(w1=\"cat\",w2=\"dog\")"
   ]
  },
  {
   "cell_type": "code",
   "execution_count": 143,
   "id": "66cb3fa2-857a-401a-87d4-eb3003287d90",
   "metadata": {},
   "outputs": [],
   "source": [
    "p2 = model.wv.similarity(w1=\"cat\",w2=\"mouse\")"
   ]
  },
  {
   "cell_type": "code",
   "execution_count": 144,
   "id": "03bda456-6753-48f4-b1e4-adfeabd09e2e",
   "metadata": {},
   "outputs": [],
   "source": [
    "p3 = model.wv.similarity(w1=\"cat\",w2=\"hat\")"
   ]
  },
  {
   "cell_type": "code",
   "execution_count": 145,
   "id": "bd0a79c1-ec7c-4f90-869b-cdb4efcbda6f",
   "metadata": {},
   "outputs": [
    {
     "data": {
      "text/plain": [
       "(0.8001574, 0.66381395, 0.5065465)"
      ]
     },
     "execution_count": 145,
     "metadata": {},
     "output_type": "execute_result"
    }
   ],
   "source": [
    "p1,p2,p3"
   ]
  },
  {
   "cell_type": "code",
   "execution_count": 152,
   "id": "5e89713e-c1ba-4ff4-98cd-fb400cf9c25d",
   "metadata": {},
   "outputs": [],
   "source": [
    "x_pos = [p0[1], p1, p2, p3]\n",
    "y_pos = [p0[1], p1, p2, p3]\n",
    "\n",
    "labels = [p0[0], 'cat - dog',  'cat - mouse', 'cat - hat']"
   ]
  },
  {
   "cell_type": "code",
   "execution_count": 153,
   "id": "bd9d486d-3761-4084-b3af-0969a2b94f16",
   "metadata": {},
   "outputs": [
    {
     "data": {
      "text/plain": [
       "[0.8634382486343384, 0.8001574, 0.66381395, 0.5065465]"
      ]
     },
     "execution_count": 153,
     "metadata": {},
     "output_type": "execute_result"
    }
   ],
   "source": [
    "x_pos"
   ]
  },
  {
   "cell_type": "code",
   "execution_count": 154,
   "id": "ca253a46-f71a-46b9-a17f-8315a8476c47",
   "metadata": {},
   "outputs": [
    {
     "data": {
      "text/plain": [
       "[0.8634382486343384, 0.8001574, 0.66381395, 0.5065465]"
      ]
     },
     "execution_count": 154,
     "metadata": {},
     "output_type": "execute_result"
    }
   ],
   "source": [
    "y_pos"
   ]
  },
  {
   "cell_type": "code",
   "execution_count": 155,
   "id": "9babd921-0cdc-45c4-8b76-b3b4168f5011",
   "metadata": {},
   "outputs": [
    {
     "data": {
      "image/png": "[encoded data removed]",
      "text/plain": [
       "<Figure size 640x480 with 1 Axes>"
      ]
     },
     "metadata": {},
     "output_type": "display_data"
    }
   ],
   "source": [
    "plt.scatter(x_pos, y_pos)\n",
    "for label, x, y in zip(labels, x_pos, y_pos):\n",
    "    plt.text(x+.03,y+.03, label, va='top', ha='left')\n",
    "\n",
    "plt.ylim(0,1)\n",
    "plt.xlim(0,1)\n",
    "plt.show()"
   ]
  },
  {
   "cell_type": "code",
   "execution_count": 13,
   "id": "385ed737-c173-48a8-afa4-e8098fe8e4d0",
   "metadata": {},
   "outputs": [
    {
     "data": {
      "text/plain": [
       "'france'"
      ]
     },
     "execution_count": 13,
     "metadata": {},
     "output_type": "execute_result"
    }
   ],
   "source": [
    "# find the odd-one out\n",
    "model.wv.doesnt_match([\"cat\",\"dog\",\"france\"])"
   ]
  },
  {
   "cell_type": "code",
   "execution_count": 14,
   "id": "76bc8e0e-9b3e-41a7-9baf-117ff5e21b88",
   "metadata": {},
   "outputs": [
    {
     "data": {
      "text/plain": [
       "[('estate', 0.7739138603210449),\n",
       " ('abstracting', 0.755522608757019),\n",
       " ('property', 0.7185091972351074),\n",
       " ('1775', 0.717228353023529),\n",
       " ('wheedling', 0.7134758234024048),\n",
       " ('title', 0.7100324630737305),\n",
       " ('drawling', 0.7049875855445862),\n",
       " ('collection', 0.7039709687232971),\n",
       " ('famous', 0.6997976899147034),\n",
       " ('elder', 0.6958798766136169)]"
      ]
     },
     "execution_count": 14,
     "metadata": {},
     "output_type": "execute_result"
    }
   ],
   "source": [
    "w1 = \"england\"\n",
    "model.wv.most_similar(w1, topn=10)"
   ]
  },
  {
   "cell_type": "code",
   "execution_count": 15,
   "id": "165ef1d6-0aba-43aa-967f-cce46fd49de6",
   "metadata": {},
   "outputs": [
    {
     "data": {
      "text/plain": [
       "0.539794"
      ]
     },
     "execution_count": 15,
     "metadata": {},
     "output_type": "execute_result"
    }
   ],
   "source": [
    "model.wv.similarity(w1=\"love\",w2=\"hate\")"
   ]
  },
  {
   "cell_type": "code",
   "execution_count": 21,
   "id": "cc7ccfe6-fbf1-46f1-b607-bfe1de2e2778",
   "metadata": {},
   "outputs": [
    {
     "data": {
      "text/plain": [
       "[('denies', 0.5840262174606323)]"
      ]
     },
     "execution_count": 21,
     "metadata": {},
     "output_type": "execute_result"
    }
   ],
   "source": [
    "model.wv.most_similar(positive=['king', 'woman'], negative=['man'], topn=1)"
   ]
  },
  {
   "cell_type": "code",
   "execution_count": 16,
   "id": "f20fdc11-83e8-4ff0-9528-15e8e8f70414",
   "metadata": {},
   "outputs": [],
   "source": [
    "# let's see with a bigger model\n",
    "import gensim.downloader"
   ]
  },
  {
   "cell_type": "code",
   "execution_count": 17,
   "id": "1718c91f-ee58-4842-9c4c-dbe3dc7ee542",
   "metadata": {},
   "outputs": [
    {
     "name": "stdout",
     "output_type": "stream",
     "text": [
      "['fasttext-wiki-news-subwords-300', 'conceptnet-numberbatch-17-06-300', 'word2vec-ruscorpora-300', 'word2vec-google-news-300', 'glove-wiki-gigaword-50', 'glove-wiki-gigaword-100', 'glove-wiki-gigaword-200', 'glove-wiki-gigaword-300', 'glove-twitter-25', 'glove-twitter-50', 'glove-twitter-100', 'glove-twitter-200', '__testing_word2vec-matrix-synopsis']\n"
     ]
    }
   ],
   "source": [
    "print(list(gensim.downloader.info()['models'].keys()))"
   ]
  },
  {
   "cell_type": "code",
   "execution_count": 159,
   "id": "9e03a76c-428b-416b-93aa-61c377ba8eba",
   "metadata": {},
   "outputs": [
    {
     "name": "stdout",
     "output_type": "stream",
     "text": [
      "[=================---------------------------------] 35.5% 23.4/66.0MB downloaded"
     ]
    },
    {
     "name": "stderr",
     "output_type": "stream",
     "text": [
      "IOPub message rate exceeded.\n",
      "The Jupyter server will temporarily stop sending output\n",
      "to the client in order to avoid crashing it.\n",
      "To change this limit, set the config variable\n",
      "`--ServerApp.iopub_msg_rate_limit`.\n",
      "\n",
      "Current values:\n",
      "ServerApp.iopub_msg_rate_limit=1000.0 (msgs/sec)\n",
      "ServerApp.rate_limit_window=3.0 (secs)\n",
      "\n"
     ]
    },
    {
     "name": "stdout",
     "output_type": "stream",
     "text": [
      "[=============================================-----] 91.6% 60.4/66.0MB downloaded"
     ]
    },
    {
     "name": "stderr",
     "output_type": "stream",
     "text": [
      "IOPub message rate exceeded.\n",
      "The Jupyter server will temporarily stop sending output\n",
      "to the client in order to avoid crashing it.\n",
      "To change this limit, set the config variable\n",
      "`--ServerApp.iopub_msg_rate_limit`.\n",
      "\n",
      "Current values:\n",
      "ServerApp.iopub_msg_rate_limit=1000.0 (msgs/sec)\n",
      "ServerApp.rate_limit_window=3.0 (secs)\n",
      "\n",
      "2024-07-11 11:00:11,577 : INFO : KeyedVectors lifecycle event {'msg': 'loaded (400000, 50) matrix of type float32 from /Users/evaviviani/gensim-data/glove-wiki-gigaword-50/glove-wiki-gigaword-50.gz', 'binary': False, 'encoding': 'utf8', 'datetime': '2024-07-11T11:00:11.577102', 'gensim': '4.3.2', 'python': '3.11.0 | packaged by conda-forge | (main, Jan 14 2023, 12:26:40) [Clang 14.0.6 ]', 'platform': 'macOS-14.5-arm64-arm-64bit', 'event': 'load_word2vec_format'}\n"
     ]
    }
   ],
   "source": [
    "google_vectors = gensim.downloader.load('glove-wiki-gigaword-50')"
   ]
  },
  {
   "cell_type": "code",
   "execution_count": 221,
   "id": "143dc7ca-218d-46ee-9eb5-147a959efab4",
   "metadata": {},
   "outputs": [
    {
     "name": "stdout",
     "output_type": "stream",
     "text": [
      "[ 0.50451   0.68607  -0.59517  -0.022801  0.60046  -0.13498  -0.08813\n",
      "  0.47377  -0.61798  -0.31012  -0.076666  1.493    -0.034189 -0.98173\n",
      "  0.68229   0.81722  -0.51874  -0.31503  -0.55809   0.66421   0.1961\n",
      " -0.13495  -0.11476  -0.30344   0.41177  -2.223    -1.0756   -1.0783\n",
      " -0.34354   0.33505   1.9927   -0.04234  -0.64319   0.71125   0.49159\n",
      "  0.16754   0.34344  -0.25663  -0.8523    0.1661    0.40102   1.1685\n",
      " -1.0137   -0.21585  -0.15155   0.78321  -0.91241  -1.6106   -0.64426\n",
      " -0.51042 ]\n"
     ]
    }
   ],
   "source": [
    "print(google_vectors['king'])"
   ]
  },
  {
   "cell_type": "code",
   "execution_count": 230,
   "id": "10a4e82b-29ad-444b-85fc-a06ce416fb0e",
   "metadata": {},
   "outputs": [
    {
     "data": {
      "image/png": "[encoded data removed]",
      "text/plain": [
       "<Figure size 1000x50 with 50 Axes>"
      ]
     },
     "metadata": {},
     "output_type": "display_data"
    }
   ],
   "source": [
    "import matplotlib.pyplot as plt\n",
    "import matplotlib.colors as mcolors\n",
    "vector_king = google_vectors['king']\n",
    "\n",
    "# Normalize vector to range [0, 1] for colors\n",
    "min_val = np.min(vector_king)\n",
    "max_val = np.max(vector_king)\n",
    "norm_vector_king = (vector_king - min_val) / (max_val - min_val)\n",
    "\n",
    "# Create a figure and axis\n",
    "fig, ax = plt.subplots(1, len(vector_king), figsize=(10, .5))\n",
    "\n",
    "# Plot each element with a color gradient\n",
    "for i, val in enumerate(norm_vector_king):\n",
    "    color = plt.cm.Greens(val)  # use shades of green from matplotlib's Greens colormap\n",
    "    ax[i].imshow([[color]], aspect='auto')\n",
    "    ax[i].axis('off')\n",
    "\n",
    "plt.show()"
   ]
  },
  {
   "cell_type": "code",
   "execution_count": 241,
   "id": "75ed3294-37e9-4a72-a141-f0e654cdf65e",
   "metadata": {},
   "outputs": [
    {
     "data": {
      "text/plain": [
       "array([ 0.50451 ,  0.68607 , -0.59517 , -0.022801,  0.60046 , -0.13498 ,\n",
       "       -0.08813 ,  0.47377 , -0.61798 , -0.31012 , -0.076666,  1.493   ,\n",
       "       -0.034189, -0.98173 ,  0.68229 ,  0.81722 , -0.51874 , -0.31503 ,\n",
       "       -0.55809 ,  0.66421 ,  0.1961  , -0.13495 , -0.11476 , -0.30344 ,\n",
       "        0.41177 , -2.223   , -1.0756  , -1.0783  , -0.34354 ,  0.33505 ,\n",
       "        1.9927  , -0.04234 , -0.64319 ,  0.71125 ,  0.49159 ,  0.16754 ,\n",
       "        0.34344 , -0.25663 , -0.8523  ,  0.1661  ,  0.40102 ,  1.1685  ,\n",
       "       -1.0137  , -0.21585 , -0.15155 ,  0.78321 , -0.91241 , -1.6106  ,\n",
       "       -0.64426 , -0.51042 ], dtype=float32)"
      ]
     },
     "execution_count": 241,
     "metadata": {},
     "output_type": "execute_result"
    }
   ],
   "source": [
    "vector_king"
   ]
  },
  {
   "cell_type": "code",
   "execution_count": 240,
   "id": "aa5d20ca-d49c-4456-9bae-0f46a2dd5e32",
   "metadata": {},
   "outputs": [
    {
     "data": {
      "image/png": "[encoded data removed]",
      "text/plain": [
       "<Figure size 1000x50 with 100 Axes>"
      ]
     },
     "metadata": {},
     "output_type": "display_data"
    }
   ],
   "source": [
    "vector_king = google_vectors['king']\n",
    "vector_queen = google_vectors['queen']\n",
    "\n",
    "min_val = min(np.min(vector_king), np.min(vector_queen))\n",
    "max_val = max(np.max(vector_king), np.max(vector_queen))\n",
    "\n",
    "norm_vector_king = (vector_king - min_val) / (max_val - min_val)\n",
    "norm_vector_queen = (vector_queen - min_val) / (max_val - min_val)\n",
    "\n",
    "# Create a figure and axis\n",
    "fig, ax = plt.subplots(2, len(vector_king), figsize=(10, .5))\n",
    "\n",
    "# Plot 'king' vector\n",
    "for i, val in enumerate(norm_vector_king):\n",
    "    color = plt.cm.Greens(val)  # use shades of green from matplotlib's Greens colormap\n",
    "    ax[0, i].imshow([[color]], aspect='auto')\n",
    "    ax[0, i].axis('off')\n",
    "    ax[0, -1].\n",
    "\n",
    "# Plot 'queen' vector\n",
    "for i, val in enumerate(norm_vector_queen):\n",
    "    color = plt.cm.Greens(val)  # use shades of green from matplotlib's Greens colormap\n",
    "    ax[1, i].imshow([[color]], aspect='auto')\n",
    "    ax[1, i].axis('off')\n",
    "\n",
    "\n",
    "plt.show()"
   ]
  },
  {
   "cell_type": "code",
   "execution_count": 278,
   "id": "916510e9-9c0d-4047-ab31-d51aea0b7022",
   "metadata": {},
   "outputs": [
    {
     "data": {
      "image/png": "[encoded data removed]",
      "text/plain": [
       "<Figure size 1500x100 with 2 Axes>"
      ]
     },
     "metadata": {},
     "output_type": "display_data"
    }
   ],
   "source": [
    "vectors= google_vectors['king']\n",
    "\n",
    "\n",
    "# Create a figure and axis\n",
    "fig, ax = plt.subplots(1, 1, figsize=(15, 1))\n",
    "\n",
    "cmap = ax.imshow([vectors], aspect='auto',cmap=plt.cm.Greens)\n",
    "ax.set_yticks([0])\n",
    "ax.set_xticks([])\n",
    "ax.set_yticklabels(['king'])\n",
    "ax.set_xlabel('Embedding dimension')\n",
    "plt.colorbar(cmap)\n",
    "\n",
    "plt.tight_layout()\n",
    "\n",
    "plt.show()"
   ]
  },
  {
   "cell_type": "code",
   "execution_count": 289,
   "id": "aca7f7ff-4473-45b5-8ece-0808dfa587f5",
   "metadata": {},
   "outputs": [
    {
     "data": {
      "image/png": "[encoded data removed]",
      "text/plain": [
       "<Figure size 1500x100 with 2 Axes>"
      ]
     },
     "metadata": {},
     "output_type": "display_data"
    }
   ],
   "source": [
    "vectors= google_vectors['king','queen']\n",
    "\n",
    "\n",
    "# Create a figure and axis\n",
    "fig, ax = plt.subplots(1, 1, figsize=(15, 1))\n",
    "\n",
    "cmap = ax.imshow(vectors, aspect='auto',cmap=plt.cm.coolwarm)\n",
    "ax.set_yticks([0,1])\n",
    "ax.set_xticks([])\n",
    "ax.set_yticklabels(['king','queen'])\n",
    "ax.set_xlabel('Embedding dimension')\n",
    "plt.axhline(y=.5, c='k', linestyle='--')\n",
    "plt.colorbar(cmap)\n",
    "\n",
    "plt.tight_layout()\n",
    "\n",
    "plt.show()"
   ]
  },
  {
   "cell_type": "code",
   "execution_count": 290,
   "id": "6df8af52-ed34-49d9-a885-b87d81a1fcb9",
   "metadata": {},
   "outputs": [
    {
     "data": {
      "image/png": "[encoded data removed]",
      "text/plain": [
       "<Figure size 1500x100 with 2 Axes>"
      ]
     },
     "metadata": {},
     "output_type": "display_data"
    }
   ],
   "source": [
    "vectors= google_vectors['king','queen','servant']\n",
    "\n",
    "\n",
    "# Create a figure and axis\n",
    "fig, ax = plt.subplots(1, 1, figsize=(15, 1))\n",
    "\n",
    "cmap = ax.imshow(vectors, aspect='auto',cmap=plt.cm.coolwarm)\n",
    "ax.set_yticks([0,1,2])\n",
    "ax.set_xticks([])\n",
    "ax.set_yticklabels(['king','queen', 'servant'])\n",
    "ax.set_xlabel('Embedding dimension')\n",
    "plt.axhline(y=.5, c='k', linestyle='--')\n",
    "plt.colorbar(cmap)\n",
    "\n",
    "plt.tight_layout()\n",
    "\n",
    "plt.show()"
   ]
  },
  {
   "cell_type": "code",
   "execution_count": 222,
   "id": "7844474d-c4be-4fb6-b750-1acab601b12f",
   "metadata": {},
   "outputs": [
    {
     "data": {
      "text/plain": [
       "50"
      ]
     },
     "execution_count": 222,
     "metadata": {},
     "output_type": "execute_result"
    }
   ],
   "source": []
  },
  {
   "cell_type": "code",
   "execution_count": 19,
   "id": "fb06f159-17b1-4ba6-9fbe-03b7d5473545",
   "metadata": {},
   "outputs": [
    {
     "data": {
      "text/plain": [
       "[('kings', 0.7138046622276306),\n",
       " ('queen', 0.6510956287384033),\n",
       " ('monarch', 0.6413194537162781),\n",
       " ('crown_prince', 0.6204219460487366),\n",
       " ('prince', 0.6159993410110474),\n",
       " ('sultan', 0.5864824056625366),\n",
       " ('ruler', 0.5797566771507263),\n",
       " ('princes', 0.5646552443504333),\n",
       " ('Prince_Paras', 0.5432944297790527),\n",
       " ('throne', 0.5422105193138123)]"
      ]
     },
     "execution_count": 19,
     "metadata": {},
     "output_type": "execute_result"
    }
   ],
   "source": [
    "google_vectors.most_similar('king', topn=11)"
   ]
  },
  {
   "cell_type": "code",
   "execution_count": null,
   "id": "1340cf28-2c6b-4834-adee-8f92ef34353d",
   "metadata": {},
   "outputs": [],
   "source": [
    "# how to evaluate if the model tells us something intuitive?"
   ]
  },
  {
   "cell_type": "code",
   "execution_count": 22,
   "id": "bfaff273-5468-461b-81c4-06b5493118a9",
   "metadata": {},
   "outputs": [
    {
     "data": {
      "text/plain": [
       "[('queen', 0.7118192911148071)]"
      ]
     },
     "execution_count": 22,
     "metadata": {},
     "output_type": "execute_result"
    }
   ],
   "source": [
    "# analogy: king + woman - man = queen\n",
    "\n",
    "google_vectors.most_similar(positive=['king', 'woman'], negative=['man'], topn=1)"
   ]
  },
  {
   "cell_type": "code",
   "execution_count": 23,
   "id": "6ba5b6c5-351d-4053-825a-adc5fbca5c69",
   "metadata": {},
   "outputs": [
    {
     "data": {
      "text/plain": [
       "[('Tokyo', 0.8142861723899841)]"
      ]
     },
     "execution_count": 23,
     "metadata": {},
     "output_type": "execute_result"
    }
   ],
   "source": [
    "# analogy: Paris - France + Japan\n",
    "google_vectors.most_similar(positive=['Paris', 'Japan'], negative=['France'], topn=1)"
   ]
  },
  {
   "cell_type": "code",
   "execution_count": 118,
   "id": "362ec3e5-a565-4bc5-8658-c0d5adf71c4d",
   "metadata": {},
   "outputs": [
    {
     "data": {
      "text/plain": [
       "[('euro', 0.5166667103767395)]"
      ]
     },
     "execution_count": 118,
     "metadata": {},
     "output_type": "execute_result"
    }
   ],
   "source": [
    "# analogy: dollar - US + Italy\n",
    "google_vectors.most_similar(positive=['dollar', 'Italy'], negative=['US'], topn=1)"
   ]
  },
  {
   "cell_type": "code",
   "execution_count": 119,
   "id": "f961aea7-1bab-4a7e-af4e-e46ed0db1c49",
   "metadata": {},
   "outputs": [
    {
     "data": {
      "text/plain": [
       "[('guidance_counselor', 0.5969595313072205)]"
      ]
     },
     "execution_count": 119,
     "metadata": {},
     "output_type": "execute_result"
    }
   ],
   "source": [
    "# analogy: doctor - hospital + school # teacher\n",
    "google_vectors.most_similar(positive=['doctor', 'school'], negative=['hospital'], topn=1)"
   ]
  },
  {
   "cell_type": "code",
   "execution_count": 120,
   "id": "0493813e-603e-4949-9833-92585b50dd26",
   "metadata": {},
   "outputs": [
    {
     "data": {
      "text/plain": [
       "[('painter', 0.6311506032943726)]"
      ]
     },
     "execution_count": 120,
     "metadata": {},
     "output_type": "execute_result"
    }
   ],
   "source": [
    "# analogy: author - book + painting # artist\n",
    "\n",
    "google_vectors.most_similar(positive=['author', 'painting'], negative=['book'], topn=1)"
   ]
  },
  {
   "cell_type": "code",
   "execution_count": 122,
   "id": "a3e1a5b3-de4b-4f31-b907-3badc201ad75",
   "metadata": {},
   "outputs": [
    {
     "data": {
      "text/plain": [
       "[('car', 0.696682333946228)]"
      ]
     },
     "execution_count": 122,
     "metadata": {},
     "output_type": "execute_result"
    }
   ],
   "source": [
    "# apple - apples + cars\n",
    "google_vectors.most_similar(positive=['apple', 'cars'], negative=['apples'], topn=1)"
   ]
  },
  {
   "cell_type": "code",
   "execution_count": null,
   "id": "409479fc-6b45-45ca-9f7c-4c7224c7a086",
   "metadata": {},
   "outputs": [],
   "source": [
    "# analogy: 'child - children + women'\n",
    "\n",
    "google_vectors.most_similar(positive=['child', 'women'], negative=['children'], topn=1)"
   ]
  },
  {
   "cell_type": "code",
   "execution_count": 188,
   "id": "b49546ce-7be6-40df-9c7b-fc3dd046f726",
   "metadata": {},
   "outputs": [],
   "source": [
    "# Define lists of top 20 animal and vehicle words\n",
    "animal_words = ['dog', 'cat', 'horse', 'lion', 'tiger', 'elephant', 'bear', 'wolf', 'fox', 'deer', \n",
    "                'rabbit', 'mouse', 'rat', 'bird', 'eagle', 'hawk', 'fish', 'shark', 'whale', 'dolphin',\n",
    "               'fly', 'crane', 'bug','seal','cougar', 'jaguar']\n",
    "vehicle_words = ['car', 'truck', 'bus', 'bicycle', 'motorcycle', 'scooter', 'train', 'airplane', \n",
    "                 'helicopter', 'boat', 'ship', 'submarine', 'van', 'taxi', 'ambulance', 'tractor', \n",
    "                 'trailer', 'jeep', 'minivan', 'skateboard', 'tank', 'bobcat']\n"
   ]
  },
  {
   "cell_type": "code",
   "execution_count": 189,
   "id": "dca74c2c-114a-4750-99da-9ce240a58a84",
   "metadata": {},
   "outputs": [],
   "source": [
    "# Filter words that are in the vocabulary\n",
    "animal_words_in_vocab = [word for word in animal_words if word in google_vectors.key_to_index]\n",
    "vehicle_words_in_vocab = [word for word in vehicle_words if word in google_vectors.key_to_index]\n"
   ]
  },
  {
   "cell_type": "code",
   "execution_count": 190,
   "id": "92f887f4-9b0a-41f9-a888-b0a584529534",
   "metadata": {},
   "outputs": [],
   "source": [
    "all_words = animal_words_in_vocab + vehicle_words_in_vocab "
   ]
  },
  {
   "cell_type": "code",
   "execution_count": 191,
   "id": "5843704d-709f-4cd7-992c-50ad5aaabb9d",
   "metadata": {},
   "outputs": [],
   "source": [
    "word_vectors = np.array([google_vectors[word] for word in all_words])"
   ]
  },
  {
   "cell_type": "code",
   "execution_count": 212,
   "id": "81ccdc80-afda-4f63-ba68-a89577e769bb",
   "metadata": {},
   "outputs": [
    {
     "name": "stderr",
     "output_type": "stream",
     "text": [
      "/Users/evaviviani/opt/anaconda3/envs/nlp_course/lib/python3.11/site-packages/umap/umap_.py:1945: UserWarning: n_jobs value 1 overridden to 1 by setting random_state. Use no seed for parallelism.\n",
      "  warn(f\"n_jobs value {self.n_jobs} overridden to 1 by setting random_state. Use no seed for parallelism.\")\n"
     ]
    }
   ],
   "source": [
    "# Reduce dimensions using UMAP\n",
    "reducer = umap.UMAP(n_neighbors=15, min_dist=0.1, random_state=42)\n",
    "embedding = reducer.fit_transform(word_vectors)\n"
   ]
  },
  {
   "cell_type": "code",
   "execution_count": 213,
   "id": "e9c89bf8-e3ac-43d2-a831-54a42738990e",
   "metadata": {},
   "outputs": [
    {
     "data": {
      "image/png": "[encoded data removed]",
      "text/plain": [
       "<Figure size 1200x800 with 1 Axes>"
      ]
     },
     "metadata": {},
     "output_type": "display_data"
    }
   ],
   "source": [
    "# Plot the words in 2D space\n",
    "plt.figure(figsize=(12, 8))\n",
    "\n",
    "# Plot animal words\n",
    "for i, word in enumerate(animal_words_in_vocab):\n",
    "    plt.scatter(embedding[i, 0], embedding[i, 1], color='blue')\n",
    "    plt.text(embedding[i, 0] + 0.1, embedding[i, 1] + 0.1, word, fontsize=9, color='blue')\n",
    "\n",
    "# Plot vehicle words\n",
    "for i, word in enumerate(vehicle_words_in_vocab, start=len(animal_words_in_vocab)):\n",
    "    plt.scatter(embedding[i, 0], embedding[i, 1], color='red')\n",
    "    plt.text(embedding[i, 0] + 0.1, embedding[i, 1] + 0.1, word, fontsize=9, color='red')\n",
    "\n",
    "plt.title('2D Visualization of Animal and Vehicle Words using UMAP')\n",
    "plt.xlabel('UMAP Dimension 1')\n",
    "plt.ylabel('UMAP Dimension 2')\n",
    "plt.grid(True)\n",
    "plt.show()"
   ]
  },
  {
   "cell_type": "code",
   "execution_count": null,
   "id": "ff5e18c8-5ea9-40e6-b3d1-9858a2de0c0b",
   "metadata": {},
   "outputs": [],
   "source": [
    "# warn-box / word of caution: try to vary the random state -- what does it happen?"
   ]
  },
  {
   "cell_type": "code",
   "execution_count": 210,
   "id": "2736f0c6-ef8b-4558-8870-81e77ef98dd9",
   "metadata": {},
   "outputs": [
    {
     "name": "stdout",
     "output_type": "stream",
     "text": [
      "Reducing dimensions with MDS...\n"
     ]
    }
   ],
   "source": [
    "# Reduce dimensions using MDS\n",
    "print(\"Reducing dimensions with MDS...\")\n",
    "mds = MDS(n_components=2, random_state=43)\n",
    "embedding = mds.fit_transform(word_vectors)"
   ]
  },
  {
   "cell_type": "code",
   "execution_count": 211,
   "id": "a67cc88e-689b-40fb-8abb-25ddbe56aa03",
   "metadata": {},
   "outputs": [
    {
     "data": {
      "image/png": "[encoded data removed]",
      "text/plain": [
       "<Figure size 1200x800 with 1 Axes>"
      ]
     },
     "metadata": {},
     "output_type": "display_data"
    }
   ],
   "source": [
    "plt.figure(figsize=(12, 8))\n",
    "\n",
    "# Plot animal words\n",
    "for i, word in enumerate(animal_words_in_vocab):\n",
    "    plt.scatter(embedding[i, 0], embedding[i, 1], color='blue')\n",
    "    plt.text(embedding[i, 0] + 0.1, embedding[i, 1] + 0.1, word, fontsize=9, color='blue')\n",
    "\n",
    "# Plot vehicle words\n",
    "for i, word in enumerate(vehicle_words_in_vocab, start=len(animal_words_in_vocab)):\n",
    "    plt.scatter(embedding[i, 0], embedding[i, 1], color='red')\n",
    "    plt.text(embedding[i, 0] + 0.1, embedding[i, 1] + 0.1, word, fontsize=9, color='red')\n",
    "\n",
    "plt.title('2D Visualization of Animal and Vehicle Words using UMAP')\n",
    "plt.xlabel('MDS Dimension 1')\n",
    "plt.ylabel('MDS Dimension 2')\n",
    "plt.grid(True)\n",
    "plt.show()"
   ]
  },
  {
   "cell_type": "code",
   "execution_count": 454,
   "id": "54bd7a6e-12d5-4368-a685-30ce4ce25dad",
   "metadata": {},
   "outputs": [],
   "source": [
    "# Define lists of top 20 animal and vehicle words\n",
    "eu_cities = ['paris', 'rome', 'berlin', 'amsterdam', 'london', 'sofia', 'lisbon', 'madrid', 'athens', 'lubjiana', \n",
    "                'wien', 'zurich', 'bruxelles', 'stockholm', 'helsinki']\n"
   ]
  },
  {
   "cell_type": "code",
   "execution_count": 455,
   "id": "b981e126-b71e-4afa-b355-cfa283776bd5",
   "metadata": {},
   "outputs": [],
   "source": [
    "eu_cities_in_vocab = [word for word in eu_cities if word in google_vectors.key_to_index]\n",
    "all_words = eu_cities_in_vocab "
   ]
  },
  {
   "cell_type": "code",
   "execution_count": 456,
   "id": "20b79ece-6a70-4e89-b115-fff93ad1f80b",
   "metadata": {},
   "outputs": [],
   "source": [
    "word_vectors = np.array([google_vectors[word] for word in all_words])"
   ]
  },
  {
   "cell_type": "code",
   "execution_count": 459,
   "id": "911e93e2-fc65-41f9-8ce7-6311475e4d0c",
   "metadata": {},
   "outputs": [
    {
     "name": "stderr",
     "output_type": "stream",
     "text": [
      "/Users/evaviviani/opt/anaconda3/envs/nlp_course/lib/python3.11/site-packages/umap/umap_.py:1945: UserWarning: n_jobs value 1 overridden to 1 by setting random_state. Use no seed for parallelism.\n",
      "  warn(f\"n_jobs value {self.n_jobs} overridden to 1 by setting random_state. Use no seed for parallelism.\")\n"
     ]
    }
   ],
   "source": [
    "# Reduce dimensions using UMAP\n",
    "reducer = umap.UMAP(n_neighbors=3, min_dist=0.1, random_state=42)\n",
    "embedding = reducer.fit_transform(word_vectors)\n"
   ]
  },
  {
   "cell_type": "code",
   "execution_count": 461,
   "id": "afc9b6d3-86bf-4da3-9d25-5229e27fb39a",
   "metadata": {},
   "outputs": [
    {
     "data": {
      "image/png": "[encoded data removed]",
      "text/plain": [
       "<Figure size 1200x800 with 1 Axes>"
      ]
     },
     "metadata": {},
     "output_type": "display_data"
    }
   ],
   "source": [
    "# Plot the words in 2D space\n",
    "plt.figure(figsize=(12, 8))\n",
    "\n",
    "for i, word in enumerate(eu_cities_in_vocab):\n",
    "    plt.scatter(embedding[i, 0], embedding[i, 1], color='blue')\n",
    "    plt.text(embedding[i, 0] + 0.1, embedding[i, 1] + 0.1, word, fontsize=9, color='blue')\n",
    "\n",
    "plt.title('2D Visualization of EU and US cities using UMAP')\n",
    "plt.xlabel('UMAP Dimension 1')\n",
    "plt.ylabel('UMAP Dimension 2')\n",
    "plt.grid(True)\n",
    "plt.show()"
   ]
  },
  {
   "cell_type": "code",
   "execution_count": null,
   "id": "a73bffb7-f885-4ed3-90bd-99dfcf365490",
   "metadata": {},
   "outputs": [],
   "source": []
  },
  {
   "cell_type": "code",
   "execution_count": 217,
   "id": "9d1f2add-f643-4fed-9377-dd960a858ab4",
   "metadata": {},
   "outputs": [
    {
     "name": "stderr",
     "output_type": "stream",
     "text": [
      "[nltk_data] Downloading package punkt to\n",
      "[nltk_data]     /Users/evaviviani/nltk_data...\n",
      "[nltk_data]   Unzipping tokenizers/punkt.zip.\n"
     ]
    },
    {
     "data": {
      "text/plain": [
       "True"
      ]
     },
     "execution_count": 217,
     "metadata": {},
     "output_type": "execute_result"
    }
   ],
   "source": [
    "from nltk.tokenize import sent_tokenize, word_tokenize \n",
    "nltk.download('punkt')"
   ]
  },
  {
   "cell_type": "code",
   "execution_count": 215,
   "id": "16f44e60-8044-4d79-bb9b-2e74807f94bf",
   "metadata": {},
   "outputs": [],
   "source": [
    "with open('data/the_lord_of_the_rings_text/Lord_of_the_Rings_complete.txt', 'r') as file:\n",
    "    lotr = file.read().replace('\\n', '')"
   ]
  },
  {
   "cell_type": "code",
   "execution_count": 218,
   "id": "36510f84-a443-4841-80f6-7e950e921898",
   "metadata": {},
   "outputs": [],
   "source": [
    "lotr_sent = []\n",
    "# iterate through each sentence in the file \n",
    "for i in sent_tokenize(lotr): \n",
    "    temp = [] \n",
    "      \n",
    "    # tokenize the sentence into words \n",
    "    for j in word_tokenize(i): \n",
    "        temp.append(j.lower()) \n",
    "  \n",
    "    lotr_sent.append(temp) "
   ]
  },
  {
   "cell_type": "code",
   "execution_count": 219,
   "id": "3af75c9c-1745-4a68-8b31-c43742a35ab7",
   "metadata": {},
   "outputs": [
    {
     "data": {
      "text/plain": [
       "['gandalf',\n",
       " 'stayed',\n",
       " 'in',\n",
       " 'the',\n",
       " 'shire',\n",
       " 'for',\n",
       " 'over',\n",
       " 'two',\n",
       " 'months',\n",
       " '.']"
      ]
     },
     "execution_count": 219,
     "metadata": {},
     "output_type": "execute_result"
    }
   ],
   "source": [
    "lotr_sent[1971]\n"
   ]
  },
  {
   "cell_type": "code",
   "execution_count": 221,
   "id": "21c078b7-b11b-4f43-8eec-1c4b3ae8168f",
   "metadata": {},
   "outputs": [
    {
     "name": "stderr",
     "output_type": "stream",
     "text": [
      "2024-07-10 12:41:59,398 : INFO : collecting all words and their counts\n",
      "2024-07-10 12:41:59,405 : INFO : PROGRESS: at sentence #0, processed 0 words, keeping 0 word types\n",
      "2024-07-10 12:41:59,436 : INFO : PROGRESS: at sentence #10000, processed 167570 words, keeping 8649 word types\n",
      "2024-07-10 12:41:59,454 : INFO : PROGRESS: at sentence #20000, processed 320768 words, keeping 11842 word types\n",
      "2024-07-10 12:41:59,474 : INFO : PROGRESS: at sentence #30000, processed 485708 words, keeping 14416 word types\n",
      "2024-07-10 12:41:59,482 : INFO : collected 15384 word types from a corpus of 563024 raw words and 34520 sentences\n",
      "2024-07-10 12:41:59,483 : INFO : Creating a fresh vocabulary\n",
      "2024-07-10 12:41:59,503 : INFO : Word2Vec lifecycle event {'msg': 'effective_min_count=1 retains 15384 unique words (100.00% of original 15384, drops 0)', 'datetime': '2024-07-10T12:41:59.503811', 'gensim': '4.3.2', 'python': '3.11.0 | packaged by conda-forge | (main, Jan 14 2023, 12:26:40) [Clang 14.0.6 ]', 'platform': 'macOS-14.5-arm64-arm-64bit', 'event': 'prepare_vocab'}\n",
      "2024-07-10 12:41:59,504 : INFO : Word2Vec lifecycle event {'msg': 'effective_min_count=1 leaves 563024 word corpus (100.00% of original 563024, drops 0)', 'datetime': '2024-07-10T12:41:59.504252', 'gensim': '4.3.2', 'python': '3.11.0 | packaged by conda-forge | (main, Jan 14 2023, 12:26:40) [Clang 14.0.6 ]', 'platform': 'macOS-14.5-arm64-arm-64bit', 'event': 'prepare_vocab'}\n",
      "2024-07-10 12:41:59,534 : INFO : deleting the raw counts dictionary of 15384 items\n",
      "2024-07-10 12:41:59,535 : INFO : sample=0.001 downsamples 54 most-common words\n",
      "2024-07-10 12:41:59,535 : INFO : Word2Vec lifecycle event {'msg': 'downsampling leaves estimated 384313.25956333143 word corpus (68.3%% of prior 563024)', 'datetime': '2024-07-10T12:41:59.535338', 'gensim': '4.3.2', 'python': '3.11.0 | packaged by conda-forge | (main, Jan 14 2023, 12:26:40) [Clang 14.0.6 ]', 'platform': 'macOS-14.5-arm64-arm-64bit', 'event': 'prepare_vocab'}\n",
      "2024-07-10 12:41:59,587 : INFO : estimated required memory for 15384 words and 100 dimensions: 19999200 bytes\n",
      "2024-07-10 12:41:59,587 : INFO : resetting layer weights\n",
      "2024-07-10 12:41:59,593 : INFO : Word2Vec lifecycle event {'update': False, 'trim_rule': 'None', 'datetime': '2024-07-10T12:41:59.593588', 'gensim': '4.3.2', 'python': '3.11.0 | packaged by conda-forge | (main, Jan 14 2023, 12:26:40) [Clang 14.0.6 ]', 'platform': 'macOS-14.5-arm64-arm-64bit', 'event': 'build_vocab'}\n",
      "2024-07-10 12:41:59,594 : INFO : Word2Vec lifecycle event {'msg': 'training model with 3 workers on 15384 vocabulary and 100 features, using sg=0 hs=0 sample=0.001 negative=5 window=5 shrink_windows=True', 'datetime': '2024-07-10T12:41:59.594009', 'gensim': '4.3.2', 'python': '3.11.0 | packaged by conda-forge | (main, Jan 14 2023, 12:26:40) [Clang 14.0.6 ]', 'platform': 'macOS-14.5-arm64-arm-64bit', 'event': 'train'}\n",
      "2024-07-10 12:41:59,762 : INFO : EPOCH 0: training on 563024 raw words (383954 effective words) took 0.2s, 2338676 effective words/s\n",
      "2024-07-10 12:41:59,902 : INFO : EPOCH 1: training on 563024 raw words (384373 effective words) took 0.1s, 2804058 effective words/s\n",
      "2024-07-10 12:42:00,052 : INFO : EPOCH 2: training on 563024 raw words (384103 effective words) took 0.1s, 2624478 effective words/s\n",
      "2024-07-10 12:42:00,194 : INFO : EPOCH 3: training on 563024 raw words (384134 effective words) took 0.1s, 2776336 effective words/s\n",
      "2024-07-10 12:42:00,364 : INFO : EPOCH 4: training on 563024 raw words (384328 effective words) took 0.2s, 2300847 effective words/s\n",
      "2024-07-10 12:42:00,364 : INFO : Word2Vec lifecycle event {'msg': 'training on 2815120 raw words (1920892 effective words) took 0.8s, 2494168 effective words/s', 'datetime': '2024-07-10T12:42:00.364427', 'gensim': '4.3.2', 'python': '3.11.0 | packaged by conda-forge | (main, Jan 14 2023, 12:26:40) [Clang 14.0.6 ]', 'platform': 'macOS-14.5-arm64-arm-64bit', 'event': 'train'}\n",
      "2024-07-10 12:42:00,364 : INFO : Word2Vec lifecycle event {'params': 'Word2Vec<vocab=15384, vector_size=100, alpha=0.025>', 'datetime': '2024-07-10T12:42:00.364627', 'gensim': '4.3.2', 'python': '3.11.0 | packaged by conda-forge | (main, Jan 14 2023, 12:26:40) [Clang 14.0.6 ]', 'platform': 'macOS-14.5-arm64-arm-64bit', 'event': 'created'}\n"
     ]
    }
   ],
   "source": [
    "# Create CBOW model \n",
    "\n",
    "wvec = gensim.models.Word2Vec(lotr_sent,     # Corpus of data.\n",
    "                              min_count = 1, # Ignores words below this threshold.\n",
    "                              vector_size = 100,    # How many dimensions do you want in your word vector?\n",
    "                              window = 5)    # Number of \"worker threads\" to use (parallelizes process)."
   ]
  },
  {
   "cell_type": "code",
   "execution_count": 222,
   "id": "fd6e4aab-faa9-458e-bcc6-0a0215dce4c1",
   "metadata": {},
   "outputs": [
    {
     "name": "stderr",
     "output_type": "stream",
     "text": [
      "2024-07-10 12:42:20,994 : INFO : collecting all words and their counts\n",
      "2024-07-10 12:42:20,999 : INFO : PROGRESS: at sentence #0, processed 0 words, keeping 0 word types\n",
      "2024-07-10 12:42:21,027 : INFO : PROGRESS: at sentence #10000, processed 167570 words, keeping 8649 word types\n",
      "2024-07-10 12:42:21,045 : INFO : PROGRESS: at sentence #20000, processed 320768 words, keeping 11842 word types\n",
      "2024-07-10 12:42:21,062 : INFO : PROGRESS: at sentence #30000, processed 485708 words, keeping 14416 word types\n",
      "2024-07-10 12:42:21,069 : INFO : collected 15384 word types from a corpus of 563024 raw words and 34520 sentences\n",
      "2024-07-10 12:42:21,070 : INFO : Creating a fresh vocabulary\n",
      "2024-07-10 12:42:21,090 : INFO : Word2Vec lifecycle event {'msg': 'effective_min_count=1 retains 15384 unique words (100.00% of original 15384, drops 0)', 'datetime': '2024-07-10T12:42:21.090739', 'gensim': '4.3.2', 'python': '3.11.0 | packaged by conda-forge | (main, Jan 14 2023, 12:26:40) [Clang 14.0.6 ]', 'platform': 'macOS-14.5-arm64-arm-64bit', 'event': 'prepare_vocab'}\n",
      "2024-07-10 12:42:21,091 : INFO : Word2Vec lifecycle event {'msg': 'effective_min_count=1 leaves 563024 word corpus (100.00% of original 563024, drops 0)', 'datetime': '2024-07-10T12:42:21.091159', 'gensim': '4.3.2', 'python': '3.11.0 | packaged by conda-forge | (main, Jan 14 2023, 12:26:40) [Clang 14.0.6 ]', 'platform': 'macOS-14.5-arm64-arm-64bit', 'event': 'prepare_vocab'}\n",
      "2024-07-10 12:42:21,122 : INFO : deleting the raw counts dictionary of 15384 items\n",
      "2024-07-10 12:42:21,122 : INFO : sample=0.001 downsamples 54 most-common words\n",
      "2024-07-10 12:42:21,122 : INFO : Word2Vec lifecycle event {'msg': 'downsampling leaves estimated 384313.25956333143 word corpus (68.3%% of prior 563024)', 'datetime': '2024-07-10T12:42:21.122789', 'gensim': '4.3.2', 'python': '3.11.0 | packaged by conda-forge | (main, Jan 14 2023, 12:26:40) [Clang 14.0.6 ]', 'platform': 'macOS-14.5-arm64-arm-64bit', 'event': 'prepare_vocab'}\n",
      "2024-07-10 12:42:21,174 : INFO : estimated required memory for 15384 words and 100 dimensions: 19999200 bytes\n",
      "2024-07-10 12:42:21,174 : INFO : resetting layer weights\n",
      "2024-07-10 12:42:21,179 : INFO : Word2Vec lifecycle event {'update': False, 'trim_rule': 'None', 'datetime': '2024-07-10T12:42:21.179414', 'gensim': '4.3.2', 'python': '3.11.0 | packaged by conda-forge | (main, Jan 14 2023, 12:26:40) [Clang 14.0.6 ]', 'platform': 'macOS-14.5-arm64-arm-64bit', 'event': 'build_vocab'}\n",
      "2024-07-10 12:42:21,179 : INFO : Word2Vec lifecycle event {'msg': 'training model with 3 workers on 15384 vocabulary and 100 features, using sg=1 hs=0 sample=0.001 negative=5 window=5 shrink_windows=True', 'datetime': '2024-07-10T12:42:21.179938', 'gensim': '4.3.2', 'python': '3.11.0 | packaged by conda-forge | (main, Jan 14 2023, 12:26:40) [Clang 14.0.6 ]', 'platform': 'macOS-14.5-arm64-arm-64bit', 'event': 'train'}\n",
      "2024-07-10 12:42:21,630 : INFO : EPOCH 0: training on 563024 raw words (384188 effective words) took 0.4s, 861095 effective words/s\n",
      "2024-07-10 12:42:22,063 : INFO : EPOCH 1: training on 563024 raw words (384137 effective words) took 0.4s, 890465 effective words/s\n",
      "2024-07-10 12:42:22,548 : INFO : EPOCH 2: training on 563024 raw words (383896 effective words) took 0.5s, 797910 effective words/s\n",
      "2024-07-10 12:42:22,998 : INFO : EPOCH 3: training on 563024 raw words (384200 effective words) took 0.4s, 862256 effective words/s\n",
      "2024-07-10 12:42:23,446 : INFO : EPOCH 4: training on 563024 raw words (384339 effective words) took 0.4s, 864478 effective words/s\n",
      "2024-07-10 12:42:23,446 : INFO : Word2Vec lifecycle event {'msg': 'training on 2815120 raw words (1920760 effective words) took 2.3s, 847550 effective words/s', 'datetime': '2024-07-10T12:42:23.446486', 'gensim': '4.3.2', 'python': '3.11.0 | packaged by conda-forge | (main, Jan 14 2023, 12:26:40) [Clang 14.0.6 ]', 'platform': 'macOS-14.5-arm64-arm-64bit', 'event': 'train'}\n",
      "2024-07-10 12:42:23,446 : INFO : Word2Vec lifecycle event {'params': 'Word2Vec<vocab=15384, vector_size=100, alpha=0.025>', 'datetime': '2024-07-10T12:42:23.446688', 'gensim': '4.3.2', 'python': '3.11.0 | packaged by conda-forge | (main, Jan 14 2023, 12:26:40) [Clang 14.0.6 ]', 'platform': 'macOS-14.5-arm64-arm-64bit', 'event': 'created'}\n"
     ]
    }
   ],
   "source": [
    "# Create Skip Gram model for comparison\n",
    "\n",
    "skipg = gensim.models.Word2Vec(lotr_sent,      # Corpus of data.\n",
    "                                min_count = 1, # Ignores words below this threshold.\n",
    "                                vector_size = 100,    # How many dimensions do you want in your word vector?\n",
    "                                window = 5,    # Number of \"worker threads\" to use (parallelizes process).\n",
    "                                sg = 1)        # SG = 1 uses SkipGram, SG = 0 uses CBOW (default)."
   ]
  },
  {
   "cell_type": "code",
   "execution_count": 223,
   "id": "2fffcb65-b524-41c9-a734-a158ffc68ff6",
   "metadata": {},
   "outputs": [
    {
     "data": {
      "text/plain": [
       "[('enemy', 0.8471522927284241),\n",
       " ('company', 0.833172082901001),\n",
       " ('beginning', 0.8280175924301147),\n",
       " ('place', 0.8262482285499573),\n",
       " ('journey', 0.8203117847442627),\n",
       " ('story', 0.8153191804885864),\n",
       " ('tale', 0.8138939738273621),\n",
       " ('hour', 0.8106282949447632),\n",
       " ('burden', 0.802973747253418),\n",
       " ('feast', 0.8029192686080933),\n",
       " ('shire', 0.8025827407836914),\n",
       " ('memory', 0.8003376126289368),\n",
       " ('part', 0.7995128631591797),\n",
       " ('thing', 0.7987651824951172),\n",
       " ('danger', 0.798213005065918),\n",
       " ('strength', 0.7957248091697693),\n",
       " ('change', 0.7955716252326965),\n",
       " ('way', 0.7951018810272217),\n",
       " ('errand', 0.7926627993583679),\n",
       " ('purpose', 0.7880588173866272),\n",
       " ('power', 0.7878806591033936),\n",
       " ('vigilance', 0.7864417433738708),\n",
       " ('news', 0.7854964733123779),\n",
       " ('trick', 0.7846740484237671),\n",
       " ('day', 0.7829920649528503)]"
      ]
     },
     "execution_count": 223,
     "metadata": {},
     "output_type": "execute_result"
    }
   ],
   "source": [
    "wvec.wv.most_similar('ring', topn=25)"
   ]
  },
  {
   "cell_type": "code",
   "execution_count": 432,
   "id": "facd64bb-d948-41fd-a2e3-038c633fdfb4",
   "metadata": {},
   "outputs": [],
   "source": [
    "places = [\"hobbiton\", \"rivendell\", \"imladris\", \"gondor\", \"mordor\", \n",
    "          \"isengard\", \"rohan\", \"lorian\",\"lothlorien\", \"minas tirith\", \"minas morgul\",\n",
    "          \"mount doom\", \"grey havens\", \"fangorn\", \"gladden fields\", \"arnor\", \"beleriand\",\n",
    "          \"shire\", \"númenor\", \"mount doom\", \"erebor\", \"eriador\", \"arda\", \"aman\",\n",
    "          \"dead marshes\", \"moria\", \"rhovanion\", \"blue mountain\", \"bree\", \"chetwood\",\n",
    "         \"misty mountains\", \"mirkwood\", \"greenwood\", \"dol goldur\",\n",
    "          \"orodruin\", \"wilderland\"]\n"
   ]
  },
  {
   "cell_type": "code",
   "execution_count": 434,
   "id": "4ea880ec-8cf1-48df-87f2-7d5b43ba4027",
   "metadata": {},
   "outputs": [],
   "source": [
    "places_found = [place for place in places if place in wvec.wv.key_to_index]"
   ]
  },
  {
   "cell_type": "code",
   "execution_count": 435,
   "id": "025ff635-8c61-414e-8fb3-242314b18cb2",
   "metadata": {},
   "outputs": [
    {
     "data": {
      "text/plain": [
       "20"
      ]
     },
     "execution_count": 435,
     "metadata": {},
     "output_type": "execute_result"
    }
   ],
   "source": [
    "len(places_found)"
   ]
  },
  {
   "cell_type": "code",
   "execution_count": 436,
   "id": "4e00185b-573f-40cd-9124-073a3d3e0353",
   "metadata": {},
   "outputs": [
    {
     "data": {
      "text/plain": [
       "['hobbiton',\n",
       " 'rivendell',\n",
       " 'imladris',\n",
       " 'gondor',\n",
       " 'mordor',\n",
       " 'isengard',\n",
       " 'rohan',\n",
       " 'fangorn',\n",
       " 'arnor',\n",
       " 'beleriand',\n",
       " 'shire',\n",
       " 'erebor',\n",
       " 'eriador',\n",
       " 'moria',\n",
       " 'bree',\n",
       " 'chetwood',\n",
       " 'mirkwood',\n",
       " 'greenwood',\n",
       " 'orodruin',\n",
       " 'wilderland']"
      ]
     },
     "execution_count": 436,
     "metadata": {},
     "output_type": "execute_result"
    }
   ],
   "source": [
    "places_found"
   ]
  },
  {
   "cell_type": "code",
   "execution_count": 437,
   "id": "5fa3b356-3a9a-4f0a-b2a9-b46469cb2059",
   "metadata": {},
   "outputs": [],
   "source": [
    "place_vectors = []\n",
    "for place in places:\n",
    "    if place in wvec.wv:\n",
    "        place_vectors.append(wvec.wv[place])\n",
    "\n",
    "place_vectors = np.array(place_vectors)"
   ]
  },
  {
   "cell_type": "code",
   "execution_count": 438,
   "id": "4c131f48-b2e1-4e15-a72f-a1114bf8f5fe",
   "metadata": {},
   "outputs": [
    {
     "data": {
      "text/plain": [
       "array([[-0.22043037,  0.14646286, -0.11233411, ..., -0.24957116,\n",
       "         0.06690445,  0.15221003],\n",
       "       [-0.09811298, -0.02309336,  0.10698619, ..., -0.33948973,\n",
       "        -0.14701717,  0.2366057 ],\n",
       "       [-0.05094652,  0.02816886,  0.04983485, ..., -0.06024322,\n",
       "         0.01496406,  0.01493202],\n",
       "       ...,\n",
       "       [-0.04061098,  0.00252255,  0.01889387, ..., -0.0320733 ,\n",
       "         0.01624879,  0.0227395 ],\n",
       "       [-0.14890842,  0.11596399,  0.00378059, ..., -0.08156464,\n",
       "         0.05386555,  0.02040703],\n",
       "       [-0.13941571,  0.04766951, -0.01067805, ..., -0.04821581,\n",
       "         0.01370733,  0.0330871 ]], dtype=float32)"
      ]
     },
     "execution_count": 438,
     "metadata": {},
     "output_type": "execute_result"
    }
   ],
   "source": [
    "place_vectors"
   ]
  },
  {
   "cell_type": "code",
   "execution_count": 439,
   "id": "3d8b40f9-ac72-4e14-9382-885f04987638",
   "metadata": {},
   "outputs": [],
   "source": [
    "umap_model = umap.UMAP(n_neighbors=3, min_dist=0.3, metric='cosine', random_state=42)"
   ]
  },
  {
   "cell_type": "code",
   "execution_count": 440,
   "id": "6a7cce28-2e04-4ea3-83d7-1f60b47bf406",
   "metadata": {},
   "outputs": [
    {
     "name": "stderr",
     "output_type": "stream",
     "text": [
      "/Users/evaviviani/opt/anaconda3/envs/nlp_course/lib/python3.11/site-packages/umap/umap_.py:1945: UserWarning: n_jobs value 1 overridden to 1 by setting random_state. Use no seed for parallelism.\n",
      "  warn(f\"n_jobs value {self.n_jobs} overridden to 1 by setting random_state. Use no seed for parallelism.\")\n"
     ]
    }
   ],
   "source": [
    "embedding = umap_model.fit_transform(place_vectors)"
   ]
  },
  {
   "cell_type": "code",
   "execution_count": 441,
   "id": "ded6b8f5-7cb2-4b69-ad2b-3a139898b8c2",
   "metadata": {},
   "outputs": [
    {
     "data": {
      "image/png": "[encoded data removed]",
      "text/plain": [
       "<Figure size 1000x800 with 1 Axes>"
      ]
     },
     "metadata": {},
     "output_type": "display_data"
    }
   ],
   "source": [
    "plt.figure(figsize=(10, 8))\n",
    "plt.scatter(embedding[:, 0], embedding[:, 1], marker='o', s=100)\n",
    "\n",
    "for i, place in enumerate(places_found):\n",
    "    plt.annotate(place, xy=(embedding[i, 0], embedding[i, 1]), fontsize=12)\n",
    "\n",
    "plt.title('UMAP Projection of Places in The Lord of the Rings')\n",
    "plt.xlabel('UMAP Dimension 1')\n",
    "plt.ylabel('UMAP Dimension 2')\n",
    "plt.grid(True)\n",
    "plt.tight_layout()\n",
    "plt.show()\n"
   ]
  },
  {
   "cell_type": "code",
   "execution_count": null,
   "id": "e49668d6-cf42-434b-9665-6fa1e0a2376d",
   "metadata": {},
   "outputs": [],
   "source": []
  },
  {
   "cell_type": "code",
   "execution_count": null,
   "id": "427fc841-dc6e-45a5-b843-9d798558e01a",
   "metadata": {},
   "outputs": [],
   "source": []
  }
 ],
 "metadata": {
  "kernelspec": {
   "display_name": "Python 3.11 (nlp_course)",
   "language": "python",
   "name": "nlp_course"
  },
  "language_info": {
   "codemirror_mode": {
    "name": "ipython",
    "version": 3
   },
   "file_extension": ".py",
   "mimetype": "text/x-python",
   "name": "python",
   "nbconvert_exporter": "python",
   "pygments_lexer": "ipython3",
   "version": "3.11.0"
  }
 },
 "nbformat": 4,
 "nbformat_minor": 5
}
