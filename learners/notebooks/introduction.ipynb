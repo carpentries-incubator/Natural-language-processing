{
 "cells": [
  {
   "cell_type": "markdown",
   "id": "4415a7b0",
   "metadata": {},
   "source": [
    "# Tokenization"
   ]
  },
  {
   "cell_type": "code",
   "execution_count": null,
   "id": "9273cac8",
   "metadata": {},
   "outputs": [],
   "source": [
    "english_sentence = \"Tokenization isn't always trivial.\"\n",
    "chinese_sentence = \"标记化并不总是那么简单\" # Chinese Translation\n",
    "\n",
    "## TODO: Use python code to get the English tokens"
   ]
  },
  {
   "cell_type": "code",
   "execution_count": null,
   "id": "dc1ec817",
   "metadata": {},
   "outputs": [],
   "source": [
    "## TODO: Use python code to get the Chinese tokens"
   ]
  },
  {
   "cell_type": "code",
   "execution_count": null,
   "id": "eab84712",
   "metadata": {},
   "outputs": [],
   "source": [
    "import jieba"
   ]
  },
  {
   "cell_type": "code",
   "execution_count": null,
   "id": "f424431f",
   "metadata": {},
   "outputs": [],
   "source": [
    "# TODO: use the jieba library to tokenize the Chinese sentence"
   ]
  },
  {
   "cell_type": "code",
   "execution_count": null,
   "id": "0e1a46e1",
   "metadata": {},
   "outputs": [],
   "source": [
    "# [mark, change, and, no, always, so, simple]"
   ]
  },
  {
   "cell_type": "markdown",
   "id": "6ec6f3f4",
   "metadata": {},
   "source": [
    "# Language as Data"
   ]
  },
  {
   "cell_type": "code",
   "execution_count": null,
   "id": "f385e938",
   "metadata": {},
   "outputs": [],
   "source": [
    "# TODO: Explore Reading text files in Python and using the SpaCy library"
   ]
  },
  {
   "cell_type": "markdown",
   "id": "a47f64a6",
   "metadata": {},
   "source": [
    "# Sparsity"
   ]
  },
  {
   "cell_type": "code",
   "execution_count": null,
   "id": "523eee27",
   "metadata": {},
   "outputs": [],
   "source": []
  },
  {
   "cell_type": "markdown",
   "id": "2ff00558",
   "metadata": {},
   "source": [
    "# Discreteness"
   ]
  },
  {
   "cell_type": "code",
   "execution_count": null,
   "id": "4374b8bc",
   "metadata": {},
   "outputs": [],
   "source": []
  }
 ],
 "metadata": {
  "kernelspec": {
   "display_name": "nlp_workshop",
   "language": "python",
   "name": "python3"
  },
  "language_info": {
   "codemirror_mode": {
    "name": "ipython",
    "version": 3
   },
   "file_extension": ".py",
   "mimetype": "text/x-python",
   "name": "python",
   "nbconvert_exporter": "python",
   "pygments_lexer": "ipython3",
   "version": "3.12.9"
  }
 },
 "nbformat": 4,
 "nbformat_minor": 5
}
