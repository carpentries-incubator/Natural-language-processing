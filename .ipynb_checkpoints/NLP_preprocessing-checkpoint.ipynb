{
 "cells": [
  {
   "cell_type": "code",
   "execution_count": 3,
   "id": "4cb22e52-6404-4bdf-bd70-cd1e99f80414",
   "metadata": {},
   "outputs": [],
   "source": [
    "# import package\n",
    "import spacy\n",
    "import io\n",
    "import matplotlib.pyplot as plt"
   ]
  },
  {
   "cell_type": "code",
   "execution_count": null,
   "id": "0b7837c0-b4f6-4c3e-9036-10306de4505d",
   "metadata": {},
   "outputs": [],
   "source": [
    "# load the book of Sherlock Holmes\n",
    "path = \"../pg69700.txt\"\n",
    "f = io.open(path, mode=\"r\", encoding=\"utf-8-sig\"\n",
    "            "
   ]
  }
 ],
 "metadata": {
  "kernelspec": {
   "display_name": "npt-env",
   "language": "python",
   "name": "npt-env"
  },
  "language_info": {
   "codemirror_mode": {
    "name": "ipython",
    "version": 3
   },
   "file_extension": ".py",
   "mimetype": "text/x-python",
   "name": "python",
   "nbconvert_exporter": "python",
   "pygments_lexer": "ipython3",
   "version": "3.11.6"
  }
 },
 "nbformat": 4,
 "nbformat_minor": 5
}
